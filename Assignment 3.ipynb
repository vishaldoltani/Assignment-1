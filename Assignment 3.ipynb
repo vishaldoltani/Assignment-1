{
 "cells": [
  {
   "cell_type": "code",
   "execution_count": 2,
   "metadata": {},
   "outputs": [
    {
     "name": "stdout",
     "output_type": "stream",
     "text": [
      "Enter First value22\n",
      "Enter second value34\n",
      "Enter Operator/\n",
      "0.6470588235294118 answer\n"
     ]
    }
   ],
   "source": [
    "\n",
    "cal1 = int(input('Enter First value'))\n",
    "cal2 = int(input('Enter second value'))\n",
    "operator = input('Enter Operator')\n",
    "\n",
    "if operator == '+':\n",
    "    cal = cal1 + cal2\n",
    "    print(cal,'answer')\n",
    "elif operator == '-':\n",
    "    cal = cal1 - cal2\n",
    "    print(cal,'answer')\n",
    "elif operator == '*':\n",
    "    cal = cal1 * cal2\n",
    "    print(cal,'answer')\n",
    "elif operator == '/':\n",
    "    cal = cal1 / cal2\n",
    "    print(cal,'answer')\n",
    "else:\n",
    "    print(\"Enter correct operator\")"
   ]
  },
  {
   "cell_type": "code",
   "execution_count": 3,
   "metadata": {},
   "outputs": [
    {
     "name": "stdout",
     "output_type": "stream",
     "text": [
      "Numeric value found : 5\n"
     ]
    }
   ],
   "source": [
    "list = [\"karachi\",5,\"3\",\"lahore\"]\n",
    "\n",
    "for value in list:\n",
    "    if type(value) == int:\n",
    "        print(f\"Numeric value found : {value}\")\n",
    "        break"
   ]
  },
  {
   "cell_type": "code",
   "execution_count": 4,
   "metadata": {},
   "outputs": [],
   "source": [
    "list = [\"Karachi\",\"Sukkur\"]"
   ]
  },
  {
   "cell_type": "code",
   "execution_count": 5,
   "metadata": {},
   "outputs": [
    {
     "name": "stdout",
     "output_type": "stream",
     "text": [
      "{'First name': 'vishal', 'Last name': 'kumar', 'Address': 'Karachi'}\n"
     ]
    }
   ],
   "source": [
    "cust1 = {\n",
    "    \"First name\" : \"vishal\",\n",
    "    \"Last name\" : \"kumar\",\n",
    "    \"Address\" :\"Clifton karachi\"\n",
    "}\n",
    "cust1[\"Address\"] = 'Karachi'\n",
    "print(cust1)"
   ]
  },
  {
   "cell_type": "code",
   "execution_count": 6,
   "metadata": {},
   "outputs": [
    {
     "name": "stdout",
     "output_type": "stream",
     "text": [
      "Sum = 106\n"
     ]
    }
   ],
   "source": [
    "result = 0\n",
    "dic = {1: 2 ,\n",
    "           2: \"vishal\", \n",
    "           3: 4, \n",
    "           4:\"Not numerical\",\n",
    "           5: 100}\n",
    "\n",
    "for value in dic.values():\n",
    "    if type(value) == int:\n",
    "        result = result + value        \n",
    "        \n",
    "print(f\"Sum = {result}\")"
   ]
  },
  {
   "cell_type": "code",
   "execution_count": 7,
   "metadata": {},
   "outputs": [
    {
     "name": "stdout",
     "output_type": "stream",
     "text": [
      "Duplicated vishal\n",
      "Duplicated vishal\n",
      "Duplicated 3\n",
      "Duplicated 3\n",
      "Duplicated 0.8\n",
      "Duplicated 0.8\n"
     ]
    }
   ],
   "source": [
    "the_list = [\"vishal\", \"vishal\", 3, 3, 0.8, 0.8, 9, 10]\n",
    "for value in the_list:\n",
    "    if  the_list.count(value) > 1:\n",
    "        print(f\"Duplicated {value}\")"
   ]
  },
  {
   "cell_type": "code",
   "execution_count": 8,
   "metadata": {},
   "outputs": [
    {
     "name": "stdout",
     "output_type": "stream",
     "text": [
      "Key is present in the dictionary\n",
      "Key is not present in the dictionary\n"
     ]
    }
   ],
   "source": [
    "d = {1: 10, 2: 20, 3: 30, 4: 40, 5: 50, 6: 60}\n",
    "def is_key_present(x):\n",
    "  if x in d:\n",
    "      print('Key is present in the dictionary')\n",
    "  else:\n",
    "      print('Key is not present in the dictionary')\n",
    "is_key_present(5)\n",
    "is_key_present(9)"
   ]
  },
  {
   "cell_type": "code",
   "execution_count": null,
   "metadata": {},
   "outputs": [],
   "source": []
  }
 ],
 "metadata": {
  "kernelspec": {
   "display_name": "Python 3",
   "language": "python",
   "name": "python3"
  },
  "language_info": {
   "codemirror_mode": {
    "name": "ipython",
    "version": 3
   },
   "file_extension": ".py",
   "mimetype": "text/x-python",
   "name": "python",
   "nbconvert_exporter": "python",
   "pygments_lexer": "ipython3",
   "version": "3.7.4"
  }
 },
 "nbformat": 4,
 "nbformat_minor": 2
}
